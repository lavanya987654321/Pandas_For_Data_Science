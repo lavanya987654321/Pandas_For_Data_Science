{
 "cells": [
  {
   "cell_type": "markdown",
   "id": "5c2a6aea-45b4-4973-a820-d9eba2eae009",
   "metadata": {},
   "source": [
    "# Usage Of Pandas In Data Science:\n",
    "                Pandas is a powerful and versatile data manipulation library in Python, widely used in data science for its ability to handle and analyze structured data. Pandas’ flexibility, combined with its ability to handle large datasets efficiently, makes it an essential tool in the data science ecosystem, enabling professionals to perform complex data operations with ease."
   ]
  },
  {
   "cell_type": "markdown",
   "id": "2e19f1ce-69c0-4b77-a020-444a717e513d",
   "metadata": {},
   "source": [
    "For using pandas firstly we have to import the pandas package as we want.Here i'm importing it as pd:"
   ]
  },
  {
   "cell_type": "code",
   "execution_count": 1,
   "id": "76037607-f17c-4983-b278-47ebd1235184",
   "metadata": {},
   "outputs": [],
   "source": [
    "import pandas as pd"
   ]
  },
  {
   "cell_type": "markdown",
   "id": "b7aaec32-4c81-478b-9aeb-21ab1c791d6b",
   "metadata": {},
   "source": [
    "There are 2 primary data structures in pandas.They are\n",
    "\n",
    "1.Series\n",
    "\n",
    "2.Dataframe"
   ]
  },
  {
   "cell_type": "markdown",
   "id": "7c5361bc-4f15-4a31-900e-63db1ef855d3",
   "metadata": {},
   "source": [
    "## Series:\n",
    "Seres is a powerful data structure for handling one-dimensional data. A pandas Series is similar to a column in a spreadsheet or a database table. It can hold data of any type, including integers, floats, strings, and more, and it comes with an associated index to label the data.\n",
    "##### Basic Structure\n",
    "Data: The core data of a Series, which can be of any type (integers, floats, strings, etc.).\n",
    "\n",
    "Index: The labels associated with the data. By default, the index is a range of integers starting from 0, but you can set custom indices."
   ]
  },
  {
   "cell_type": "markdown",
   "id": "83329903-904d-4fc8-9d38-ed24569d6cc3",
   "metadata": {},
   "source": [
    "### Creating a Series:\n",
    "You can create a Series using various methods:"
   ]
  },
  {
   "cell_type": "markdown",
   "id": "0a02e34f-9677-4e47-ab30-25cc41db6c9e",
   "metadata": {},
   "source": [
    "##### From a List:"
   ]
  },
  {
   "cell_type": "code",
   "execution_count": 2,
   "id": "ed2c2554-ce69-47eb-ba84-363ca6ca79ee",
   "metadata": {},
   "outputs": [
    {
     "name": "stdout",
     "output_type": "stream",
     "text": [
      "0    10\n",
      "1    20\n",
      "2    30\n",
      "3    40\n",
      "dtype: int64\n"
     ]
    }
   ],
   "source": [
    "data = [10, 20, 30, 40]\n",
    "series = pd.Series(data)\n",
    "print(series)"
   ]
  },
  {
   "cell_type": "markdown",
   "id": "43cb50fe-51b2-49fe-99cc-4fb42e15e70b",
   "metadata": {},
   "source": [
    "##### From a Dictionary:"
   ]
  },
  {
   "cell_type": "code",
   "execution_count": 3,
   "id": "b945f878-4e02-42a4-8833-a4bd5fbb70a6",
   "metadata": {},
   "outputs": [
    {
     "name": "stdout",
     "output_type": "stream",
     "text": [
      "a    10\n",
      "b    20\n",
      "c    30\n",
      "dtype: int64\n"
     ]
    }
   ],
   "source": [
    "data_dict = {'a': 10, 'b': 20, 'c': 30}\n",
    "series_dict = pd.Series(data_dict)\n",
    "print(series_dict)"
   ]
  },
  {
   "cell_type": "markdown",
   "id": "3d2b4531-a9b3-4e02-a703-76d80a38dd25",
   "metadata": {},
   "source": [
    "##### From a Scalar Value:"
   ]
  },
  {
   "cell_type": "code",
   "execution_count": 4,
   "id": "b2a296f1-d971-4566-b2e2-7985fafcb793",
   "metadata": {},
   "outputs": [
    {
     "name": "stdout",
     "output_type": "stream",
     "text": [
      "a    5\n",
      "b    5\n",
      "c    5\n",
      "dtype: int64\n"
     ]
    }
   ],
   "source": [
    "scalar_series = pd.Series(5, index=['a', 'b', 'c'])\n",
    "print(scalar_series)"
   ]
  },
  {
   "cell_type": "markdown",
   "id": "6dfdc156-940d-4b4e-ae11-3b288bedecbe",
   "metadata": {},
   "source": [
    "##### With Custom Index:"
   ]
  },
  {
   "cell_type": "code",
   "execution_count": 12,
   "id": "37195f3a-b1ab-4f17-9ed7-16c65d80013e",
   "metadata": {},
   "outputs": [
    {
     "name": "stdout",
     "output_type": "stream",
     "text": [
      "first     100\n",
      "second    200\n",
      "third     300\n",
      "dtype: int64\n"
     ]
    }
   ],
   "source": [
    "data = [100, 200, 300]\n",
    "index = ['first', 'second', 'third']\n",
    "series = pd.Series(data, index=index)\n",
    "print(series)"
   ]
  },
  {
   "cell_type": "markdown",
   "id": "ec13421f-2614-4ca4-959a-c06105a88436",
   "metadata": {},
   "source": [
    "### Indexing and Accessing Data:\n",
    "Indexing always starts with 0 and increases by 1 while moving from left to right .\n",
    "\n",
    "##### Accessing Elements:"
   ]
  },
  {
   "cell_type": "code",
   "execution_count": 5,
   "id": "639d6f54-ecce-4dae-97af-15d3b9424207",
   "metadata": {},
   "outputs": [
    {
     "name": "stdout",
     "output_type": "stream",
     "text": [
      "20\n"
     ]
    }
   ],
   "source": [
    "print(series[1]) "
   ]
  },
  {
   "cell_type": "markdown",
   "id": "27619351-09da-482c-a74e-52c64b98b978",
   "metadata": {},
   "source": [
    "##### Accessing with Labels:"
   ]
  },
  {
   "cell_type": "code",
   "execution_count": 6,
   "id": "c1434a91-5b08-456e-9d9e-d1cd93f9c7c2",
   "metadata": {},
   "outputs": [
    {
     "name": "stdout",
     "output_type": "stream",
     "text": [
      "20\n"
     ]
    }
   ],
   "source": [
    "print(series_dict['b']) "
   ]
  },
  {
   "cell_type": "markdown",
   "id": "26c89dcf-7a50-47b2-a95d-b1c26403fb47",
   "metadata": {},
   "source": [
    "##### Slicing:"
   ]
  },
  {
   "cell_type": "code",
   "execution_count": 7,
   "id": "3e51c15c-6e62-4e11-8cad-991dd12deec1",
   "metadata": {},
   "outputs": [
    {
     "name": "stdout",
     "output_type": "stream",
     "text": [
      "1    20\n",
      "2    30\n",
      "dtype: int64\n"
     ]
    }
   ],
   "source": [
    "print(series[1:3])  "
   ]
  },
  {
   "cell_type": "markdown",
   "id": "4bac17c4-f51a-4074-947e-707d59f5e2ac",
   "metadata": {},
   "source": [
    "##### Boolean Indexing:\n",
    "You can filter values based on conditions:"
   ]
  },
  {
   "cell_type": "code",
   "execution_count": 8,
   "id": "74aa809e-dc0b-408d-b4dd-bace8707c885",
   "metadata": {},
   "outputs": [
    {
     "name": "stdout",
     "output_type": "stream",
     "text": [
      "2    30\n",
      "3    40\n",
      "dtype: int64\n"
     ]
    }
   ],
   "source": [
    "print(series[series > 20])  "
   ]
  },
  {
   "cell_type": "markdown",
   "id": "ec0d8a42-d7bb-417e-b29c-d2a17dc54c35",
   "metadata": {},
   "source": [
    "##  Vectorized Operations and Functions:\n",
    "Pandas Series supports vectorized operations, allowing you to perform operations on all elements without needing to loop through them individually.\n",
    "\n",
    "##### 1.Scalar Operations"
   ]
  },
  {
   "cell_type": "code",
   "execution_count": 9,
   "id": "76f44b5c-d7b2-4534-b404-63ef0e47b545",
   "metadata": {},
   "outputs": [
    {
     "name": "stdout",
     "output_type": "stream",
     "text": [
      "0    20\n",
      "1    40\n",
      "2    60\n",
      "3    80\n",
      "dtype: int64\n"
     ]
    }
   ],
   "source": [
    "# Multiply each element by 2\n",
    "print(series * 2)"
   ]
  },
  {
   "cell_type": "markdown",
   "id": "9f705b36-50ae-4d2e-9b2c-177e5d838df7",
   "metadata": {},
   "source": [
    "##### 2.Applying Functions"
   ]
  },
  {
   "cell_type": "code",
   "execution_count": 10,
   "id": "f8404d60-1683-4ec2-ae55-42c6f960a0c2",
   "metadata": {},
   "outputs": [
    {
     "name": "stdout",
     "output_type": "stream",
     "text": [
      "0     100\n",
      "1     400\n",
      "2     900\n",
      "3    1600\n",
      "dtype: int64\n"
     ]
    }
   ],
   "source": [
    "squared_series = series.apply(lambda x: x ** 2)\n",
    "print(squared_series)"
   ]
  },
  {
   "cell_type": "markdown",
   "id": "278b8de8-7924-4510-9965-a351c9c6d4b1",
   "metadata": {},
   "source": [
    "Here lambda function is a small, anonymous function defined using the lambda keyword. Lambda functions are useful for creating short, throwaway functions without having to define a full function using def. They are often used for simple operations that are needed temporarily."
   ]
  },
  {
   "cell_type": "markdown",
   "id": "eed0e323-b73d-47bd-848d-c994fbda857e",
   "metadata": {},
   "source": [
    "### Modifying Elements:\n",
    "You can modify elements using index-based assignment."
   ]
  },
  {
   "cell_type": "code",
   "execution_count": 13,
   "id": "1cf76169-f90d-4614-88a4-eef2d4c82dd6",
   "metadata": {},
   "outputs": [
    {
     "name": "stdout",
     "output_type": "stream",
     "text": [
      "first     100\n",
      "second    250\n",
      "third     300\n",
      "dtype: int64\n"
     ]
    }
   ],
   "source": [
    "series['second'] = 250\n",
    "print(series)"
   ]
  },
  {
   "cell_type": "markdown",
   "id": "47c27ba8-823f-4ee0-a289-b7f06b7e77b3",
   "metadata": {},
   "source": [
    "### Basic Methods:"
   ]
  },
  {
   "cell_type": "markdown",
   "id": "f57db3a8-689a-4ccc-b950-741f6964cc3a",
   "metadata": {},
   "source": [
    "##### head():\n",
    "head(n):Returns the first n elements"
   ]
  },
  {
   "cell_type": "code",
   "execution_count": 14,
   "id": "c8559492-71d2-4968-8f77-5cfaa4e4aabc",
   "metadata": {},
   "outputs": [
    {
     "name": "stdout",
     "output_type": "stream",
     "text": [
      "first     100\n",
      "second    250\n",
      "dtype: int64\n"
     ]
    }
   ],
   "source": [
    "print(series.head(2))  "
   ]
  },
  {
   "cell_type": "markdown",
   "id": "c6c191f0-3f3c-4b7b-86a3-3ab8d8ce615f",
   "metadata": {},
   "source": [
    "##### tail():\n",
    "tail(n): Returns the last n elements."
   ]
  },
  {
   "cell_type": "code",
   "execution_count": 15,
   "id": "16c2cb85-cce2-49be-b20e-a8d6eb42fb63",
   "metadata": {},
   "outputs": [
    {
     "name": "stdout",
     "output_type": "stream",
     "text": [
      "second    250\n",
      "third     300\n",
      "dtype: int64\n"
     ]
    }
   ],
   "source": [
    "print(series.tail(2))  "
   ]
  },
  {
   "cell_type": "markdown",
   "id": "4b3218d3-1891-4ad2-9906-d4f433cf04e8",
   "metadata": {},
   "source": [
    "##### describe():\n",
    "describe(): Provides a summary of statistics."
   ]
  },
  {
   "cell_type": "code",
   "execution_count": 16,
   "id": "cfa5a2f9-5178-4eaa-a94a-014a4d1cd646",
   "metadata": {},
   "outputs": [
    {
     "name": "stdout",
     "output_type": "stream",
     "text": [
      "count      3.000000\n",
      "mean     216.666667\n",
      "std      104.083300\n",
      "min      100.000000\n",
      "25%      175.000000\n",
      "50%      250.000000\n",
      "75%      275.000000\n",
      "max      300.000000\n",
      "dtype: float64\n"
     ]
    }
   ],
   "source": [
    "print(series.describe()) "
   ]
  },
  {
   "cell_type": "markdown",
   "id": "0c449733-8d1c-438f-a6c6-f1dd0660d3d4",
   "metadata": {},
   "source": [
    "##### value_counts():\n",
    "value_counts(): Returns a Series containing counts of unique values."
   ]
  },
  {
   "cell_type": "code",
   "execution_count": 17,
   "id": "05104fad-543d-4049-b4c6-962af9f8092b",
   "metadata": {},
   "outputs": [
    {
     "name": "stdout",
     "output_type": "stream",
     "text": [
      "100    1\n",
      "250    1\n",
      "300    1\n",
      "dtype: int64\n"
     ]
    }
   ],
   "source": [
    "print(series.value_counts())  "
   ]
  },
  {
   "cell_type": "markdown",
   "id": "31d596c9-737c-4e48-a2b5-55fa013d36e6",
   "metadata": {},
   "source": [
    "## Handling Missing Data:\n",
    "##### Checking for Missing Data:\n",
    "Use isna() or isnull() to check for missing values."
   ]
  },
  {
   "cell_type": "code",
   "execution_count": 18,
   "id": "a6e8dfa8-d536-4a26-a69d-3d2c6174b941",
   "metadata": {},
   "outputs": [
    {
     "name": "stdout",
     "output_type": "stream",
     "text": [
      "0    False\n",
      "1    False\n",
      "2     True\n",
      "3    False\n",
      "dtype: bool\n"
     ]
    }
   ],
   "source": [
    "series_with_nan = pd.Series([1, 2, None, 4])\n",
    "print(series_with_nan.isna())"
   ]
  },
  {
   "cell_type": "markdown",
   "id": "9efbe78d-b84e-4f5f-b946-db9d2947134e",
   "metadata": {},
   "source": [
    "##### Filling Missing Data:\n",
    "Use fillna() to fill missing values."
   ]
  },
  {
   "cell_type": "code",
   "execution_count": 19,
   "id": "f8254792-b889-4764-984e-bd14ce7adf84",
   "metadata": {},
   "outputs": [
    {
     "name": "stdout",
     "output_type": "stream",
     "text": [
      "0    1.0\n",
      "1    2.0\n",
      "2    0.0\n",
      "3    4.0\n",
      "dtype: float64\n"
     ]
    }
   ],
   "source": [
    "filled_series = series_with_nan.fillna(0)\n",
    "print(filled_series)  "
   ]
  },
  {
   "cell_type": "markdown",
   "id": "af99d3dd-8092-4c51-8190-fe85edaad7d5",
   "metadata": {},
   "source": [
    "##### Dropping Missing Data: \n",
    "Use dropna() to remove missing values."
   ]
  },
  {
   "cell_type": "code",
   "execution_count": 20,
   "id": "d0c161ad-8f11-4006-8282-3e63945fda57",
   "metadata": {},
   "outputs": [
    {
     "name": "stdout",
     "output_type": "stream",
     "text": [
      "0    1.0\n",
      "1    2.0\n",
      "3    4.0\n",
      "dtype: float64\n"
     ]
    }
   ],
   "source": [
    "cleaned_series = series_with_nan.dropna()\n",
    "print(cleaned_series)  "
   ]
  },
  {
   "cell_type": "markdown",
   "id": "51ad4b01-3cbe-495b-980d-7e84597c6b0b",
   "metadata": {},
   "source": [
    "## Dataframe:"
   ]
  },
  {
   "cell_type": "markdown",
   "id": "7cf7dd51-6cff-4c37-ae64-459880bafb95",
   "metadata": {},
   "source": [
    "A pandas DataFrame is a two-dimensional, size-mutable, and potentially heterogeneous tabular data structure with labeled axes (rows and columns). It is one of the most powerful data structures in Python for data manipulation, analysis, and modeling, making it the centerpiece of the pandas library."
   ]
  },
  {
   "cell_type": "markdown",
   "id": "2b12ab56-3712-46b1-a755-d0dbabadda28",
   "metadata": {},
   "source": [
    "#### Key Features of a pandas DataFrame:\n",
    "Data: Can be various types, including integers, floats, strings, and more complex types like lists and dictionaries.\n",
    "\n",
    "Columns: Labels for the data in each column.\n",
    "\n",
    "Index: Labels for the rows, which can be integers or other types, and can be customized."
   ]
  },
  {
   "cell_type": "markdown",
   "id": "4daf20fa-da3c-4a35-a263-048db69d2a30",
   "metadata": {},
   "source": [
    "#### Creating a DataFrame:\n",
    "You can create a DataFrame from various data sources like lists, dictionaries, NumPy arrays, or even another DataFrame."
   ]
  },
  {
   "cell_type": "markdown",
   "id": "afa4618c-9ee7-4ed5-84c6-cf9399fcf568",
   "metadata": {},
   "source": [
    "##### From a Dictionary of Lists:"
   ]
  },
  {
   "cell_type": "code",
   "execution_count": 21,
   "id": "c3ab532d-f867-4d7f-8d96-4690a7911f6e",
   "metadata": {},
   "outputs": [],
   "source": [
    "data = {\n",
    "    'Name': ['Alice', 'Bob', 'Charlie'],\n",
    "    'Age': [25, 30, 35],\n",
    "    'City': ['New York', 'Los Angeles', 'Chicago']\n",
    "}"
   ]
  },
  {
   "cell_type": "code",
   "execution_count": 22,
   "id": "ffbb248e-f329-46cd-968d-bcd3e3491f9f",
   "metadata": {},
   "outputs": [
    {
     "name": "stdout",
     "output_type": "stream",
     "text": [
      "      Name  Age         City\n",
      "0    Alice   25     New York\n",
      "1      Bob   30  Los Angeles\n",
      "2  Charlie   35      Chicago\n"
     ]
    }
   ],
   "source": [
    "df = pd.DataFrame(data)\n",
    "print(df)"
   ]
  },
  {
   "cell_type": "markdown",
   "id": "34e075a7-4645-4b2d-b533-1abfceb8c2cb",
   "metadata": {},
   "source": [
    "##### From a List of Dictionaries:"
   ]
  },
  {
   "cell_type": "code",
   "execution_count": 27,
   "id": "383a14f0-16c2-4b3e-be34-2a6128da8823",
   "metadata": {},
   "outputs": [],
   "source": [
    "data = [\n",
    "    {'Name': 'Alice', 'Age': 25, 'City': 'New York'},\n",
    "    {'Name': 'Bob', 'Age': 30, 'City': 'Los Angeles'},\n",
    "    {'Name': 'Charlie', 'Age': 35, 'City': 'Chicago'}\n",
    "]"
   ]
  },
  {
   "cell_type": "code",
   "execution_count": 24,
   "id": "b912d4d8-1033-44d3-8ce0-7b1818abebc0",
   "metadata": {},
   "outputs": [
    {
     "name": "stdout",
     "output_type": "stream",
     "text": [
      "      Name  Age         City\n",
      "0    Alice   25     New York\n",
      "1      Bob   30  Los Angeles\n",
      "2  Charlie   35      Chicago\n"
     ]
    }
   ],
   "source": [
    "df = pd.DataFrame(data)\n",
    "print(df)"
   ]
  },
  {
   "cell_type": "markdown",
   "id": "4264c244-57e1-4b3b-ba22-f999978098a2",
   "metadata": {},
   "source": [
    "##### From a NumPy Array:"
   ]
  },
  {
   "cell_type": "code",
   "execution_count": 25,
   "id": "b1b135d0-74cf-40a1-8849-55eaf811f049",
   "metadata": {},
   "outputs": [
    {
     "name": "stdout",
     "output_type": "stream",
     "text": [
      "   A  B  C\n",
      "0  1  2  3\n",
      "1  4  5  6\n",
      "2  7  8  9\n"
     ]
    }
   ],
   "source": [
    "import numpy as np\n",
    "data = np.array([[1, 2, 3], [4, 5, 6], [7, 8, 9]])\n",
    "df = pd.DataFrame(data, columns=['A', 'B', 'C'])\n",
    "print(df)"
   ]
  },
  {
   "cell_type": "markdown",
   "id": "0c631134-edfb-4159-b0cb-a51d512d7fca",
   "metadata": {},
   "source": [
    "#### Reading data from a csv file:"
   ]
  },
  {
   "cell_type": "code",
   "execution_count": 65,
   "id": "62574fbb-0949-41c2-a46b-21651af5f1d8",
   "metadata": {},
   "outputs": [],
   "source": [
    "# Create a sample DataFrame\n",
    "df = pd.DataFrame({\n",
    "    'Name': ['Alice', 'Bob', 'Charlie'],\n",
    "    'Age': [25, 30, 35],\n",
    "    'City': ['New York', 'Los Angeles', 'Chicago']\n",
    "})\n",
    "# Save the DataFrame to a CSV file\n",
    "df.to_csv('sample_data.csv', index=False)\n"
   ]
  },
  {
   "cell_type": "markdown",
   "id": "66a00ae8-ecd4-4254-a4e4-c7e29d65590a",
   "metadata": {},
   "source": [
    "##### Loading data from csv file:"
   ]
  },
  {
   "cell_type": "code",
   "execution_count": 66,
   "id": "eab0c9bb-41dc-4d4d-9b1e-1db7dd1fc714",
   "metadata": {},
   "outputs": [
    {
     "name": "stdout",
     "output_type": "stream",
     "text": [
      "      Name  Age         City\n",
      "0    Alice   25     New York\n",
      "1      Bob   30  Los Angeles\n",
      "2  Charlie   35      Chicago\n"
     ]
    }
   ],
   "source": [
    "df = pd.read_csv('sample_data.csv')\n",
    "print(df)"
   ]
  },
  {
   "cell_type": "markdown",
   "id": "07fbe685-29fc-43db-9f4d-38dc99c83538",
   "metadata": {},
   "source": [
    "#### Basic DataFrame Operations:"
   ]
  },
  {
   "cell_type": "markdown",
   "id": "ffacf6ce-3859-4afe-8247-35bfba322a96",
   "metadata": {},
   "source": [
    "##### Accessing Data:\n",
    "##### By Column:"
   ]
  },
  {
   "cell_type": "code",
   "execution_count": 36,
   "id": "1b1fa3fa-445a-43f2-a6ce-9fa7a0fa3acb",
   "metadata": {},
   "outputs": [],
   "source": [
    "data = [\n",
    "    {'Name': 'Alice', 'Age': 25, 'City': 'New York'},\n",
    "    {'Name': 'Bob', 'Age': 30, 'City': 'Los Angeles'},\n",
    "    {'Name': 'Charlie', 'Age': 35, 'City': 'Chicago'}\n",
    "]\n",
    "df = pd.DataFrame(data,index=['a','b','c'])"
   ]
  },
  {
   "cell_type": "code",
   "execution_count": 37,
   "id": "7232eed2-203e-41ef-bdaa-32877826d9ff",
   "metadata": {},
   "outputs": [
    {
     "name": "stdout",
     "output_type": "stream",
     "text": [
      "a      Alice\n",
      "b        Bob\n",
      "c    Charlie\n",
      "Name: Name, dtype: object\n"
     ]
    }
   ],
   "source": [
    "print(df['Name'])  "
   ]
  },
  {
   "cell_type": "markdown",
   "id": "60563a87-49cb-40b1-ab2a-9d7dae52e408",
   "metadata": {},
   "source": [
    "##### By Row (using loc and iloc):"
   ]
  },
  {
   "cell_type": "markdown",
   "id": "8b93cc32-ce5f-459e-a16d-538fa0b7e6c1",
   "metadata": {},
   "source": [
    "loc: Access by labels"
   ]
  },
  {
   "cell_type": "code",
   "execution_count": 38,
   "id": "d39a0acd-5c53-448c-9d9a-aff4716d280a",
   "metadata": {},
   "outputs": [
    {
     "name": "stdout",
     "output_type": "stream",
     "text": [
      "Name            Bob\n",
      "Age              30\n",
      "City    Los Angeles\n",
      "Name: b, dtype: object\n"
     ]
    }
   ],
   "source": [
    "print(df.loc['b'])  "
   ]
  },
  {
   "cell_type": "markdown",
   "id": "4b2eff27-1ad1-4522-8f30-a0f188ecd2ca",
   "metadata": {},
   "source": [
    "iloc: Access by integer-location"
   ]
  },
  {
   "cell_type": "code",
   "execution_count": 39,
   "id": "c7fc6e71-6eeb-479c-b5aa-e9786f7d0ca9",
   "metadata": {},
   "outputs": [
    {
     "name": "stdout",
     "output_type": "stream",
     "text": [
      "Name       Alice\n",
      "Age           25\n",
      "City    New York\n",
      "Name: a, dtype: object\n"
     ]
    }
   ],
   "source": [
    "print(df.iloc[0])  "
   ]
  },
  {
   "cell_type": "markdown",
   "id": "3b4d9089-d0d5-4bc1-9607-bc5e4d505ad7",
   "metadata": {},
   "source": [
    "Multiple Rows and Columns:"
   ]
  },
  {
   "cell_type": "code",
   "execution_count": 40,
   "id": "a7cd20bb-602c-495b-82f0-16da55750342",
   "metadata": {},
   "outputs": [
    {
     "name": "stdout",
     "output_type": "stream",
     "text": [
      "      Name         City\n",
      "a    Alice     New York\n",
      "b      Bob  Los Angeles\n",
      "c  Charlie      Chicago\n"
     ]
    }
   ],
   "source": [
    "# Access 'Name' and 'City' columns for all rows\n",
    "print(df.loc[:, ['Name', 'City']])  "
   ]
  },
  {
   "cell_type": "markdown",
   "id": "c6e59dbf-dab5-4456-a5fb-727afb90ae65",
   "metadata": {},
   "source": [
    "### Adding/Modifying Columns:"
   ]
  },
  {
   "cell_type": "markdown",
   "id": "e8a188f6-cc4d-42f1-861c-a884f4f8cfbc",
   "metadata": {},
   "source": [
    "##### Adding a New Column:"
   ]
  },
  {
   "cell_type": "code",
   "execution_count": 41,
   "id": "dfa19d36-fc2c-43c9-9bad-951aab257132",
   "metadata": {},
   "outputs": [
    {
     "name": "stdout",
     "output_type": "stream",
     "text": [
      "      Name  Age         City Country\n",
      "a    Alice   25     New York     USA\n",
      "b      Bob   30  Los Angeles     USA\n",
      "c  Charlie   35      Chicago     USA\n"
     ]
    }
   ],
   "source": [
    "df['Country'] = ['USA', 'USA', 'USA']\n",
    "print(df)"
   ]
  },
  {
   "cell_type": "markdown",
   "id": "ddf24aa6-9176-478e-a93d-6db5c4aa60d5",
   "metadata": {},
   "source": [
    "##### Modifying an Existing Column:"
   ]
  },
  {
   "cell_type": "code",
   "execution_count": 42,
   "id": "c7d5036a-97f7-48f6-b517-01034fa9416f",
   "metadata": {},
   "outputs": [
    {
     "name": "stdout",
     "output_type": "stream",
     "text": [
      "      Name  Age         City Country\n",
      "a    Alice   26     New York     USA\n",
      "b      Bob   31  Los Angeles     USA\n",
      "c  Charlie   36      Chicago     USA\n"
     ]
    }
   ],
   "source": [
    "df['Age'] = df['Age'] + 1\n",
    "print(df)"
   ]
  },
  {
   "cell_type": "markdown",
   "id": "2b62167f-71ac-4d5d-8512-4d0153c340d4",
   "metadata": {},
   "source": [
    "### Deleting Rows and Columns:\n",
    "##### Deleting a Column:"
   ]
  },
  {
   "cell_type": "code",
   "execution_count": 43,
   "id": "47cb0fac-b51f-453c-8268-ef16680f56a4",
   "metadata": {},
   "outputs": [
    {
     "name": "stdout",
     "output_type": "stream",
     "text": [
      "      Name  Age         City\n",
      "a    Alice   26     New York\n",
      "b      Bob   31  Los Angeles\n",
      "c  Charlie   36      Chicago\n"
     ]
    }
   ],
   "source": [
    "df = df.drop('Country', axis=1)\n",
    "print(df)"
   ]
  },
  {
   "cell_type": "markdown",
   "id": "a82cc5f6-bdf8-4cd0-bebb-93b0bb40d012",
   "metadata": {},
   "source": [
    "##### Deleting a Row:"
   ]
  },
  {
   "cell_type": "code",
   "execution_count": 45,
   "id": "a8bdc831-0a93-4f85-a0d5-bb0cb97f4527",
   "metadata": {},
   "outputs": [
    {
     "name": "stdout",
     "output_type": "stream",
     "text": [
      "      Name  Age      City\n",
      "a    Alice   26  New York\n",
      "c  Charlie   36   Chicago\n"
     ]
    }
   ],
   "source": [
    "df = df.drop('b', axis=0)  # Drop the row with index 1\n",
    "print(df)"
   ]
  },
  {
   "cell_type": "markdown",
   "id": "2ca28cc7-a567-4a8b-95c7-6915b947b308",
   "metadata": {},
   "source": [
    "#### DataFrame Methods:"
   ]
  },
  {
   "cell_type": "markdown",
   "id": "618a3020-f6af-4b29-9e11-896de0957956",
   "metadata": {},
   "source": [
    "##### describe():\n",
    "describe(): Provides a summary of statistics."
   ]
  },
  {
   "cell_type": "code",
   "execution_count": 46,
   "id": "f0d0d12d-f3cb-4d94-a56c-69b469524138",
   "metadata": {},
   "outputs": [
    {
     "name": "stdout",
     "output_type": "stream",
     "text": [
      "             Age\n",
      "count   2.000000\n",
      "mean   31.000000\n",
      "std     7.071068\n",
      "min    26.000000\n",
      "25%    28.500000\n",
      "50%    31.000000\n",
      "75%    33.500000\n",
      "max    36.000000\n"
     ]
    }
   ],
   "source": [
    "print(df.describe())"
   ]
  },
  {
   "cell_type": "markdown",
   "id": "75ae9b86-7d21-4f3d-85af-9d1547efc5c9",
   "metadata": {},
   "source": [
    "## Aggregate functions:"
   ]
  },
  {
   "cell_type": "markdown",
   "id": "8d1981f7-e7ce-4913-81a6-8d183ea6ff4e",
   "metadata": {},
   "source": [
    "##### sum():"
   ]
  },
  {
   "cell_type": "code",
   "execution_count": 47,
   "id": "9c4f31c1-1d51-49fc-8902-db284e49c59d",
   "metadata": {},
   "outputs": [
    {
     "name": "stdout",
     "output_type": "stream",
     "text": [
      "62\n"
     ]
    }
   ],
   "source": [
    "# Sum of the 'Age' column\n",
    "print(df['Age'].sum())   "
   ]
  },
  {
   "cell_type": "markdown",
   "id": "ed806fbe-969f-490b-a71a-8e98138bcfad",
   "metadata": {},
   "source": [
    "##### mean():"
   ]
  },
  {
   "cell_type": "code",
   "execution_count": null,
   "id": "ec99389d-c183-4d05-89c9-a2f9ebe7383e",
   "metadata": {},
   "outputs": [],
   "source": [
    " # Mean of the 'Age' column\n",
    "print(df['Age'].mean()) "
   ]
  },
  {
   "cell_type": "markdown",
   "id": "ac15aae0-d792-459e-8ed3-8fbccd39963d",
   "metadata": {},
   "source": [
    "##### min():"
   ]
  },
  {
   "cell_type": "code",
   "execution_count": 49,
   "id": "ac70345e-dfa7-4831-b861-fc5a6c0f3a1e",
   "metadata": {},
   "outputs": [
    {
     "name": "stdout",
     "output_type": "stream",
     "text": [
      "26\n"
     ]
    }
   ],
   "source": [
    " # Minimum of the 'Age' column\n",
    "print(df['Age'].min()) "
   ]
  },
  {
   "cell_type": "markdown",
   "id": "36d6d35e-a805-425b-b87c-f2e3aa1a9bcd",
   "metadata": {},
   "source": [
    "##### max():"
   ]
  },
  {
   "cell_type": "code",
   "execution_count": 50,
   "id": "5b684a2d-422b-41d3-936d-c44b6cac0d43",
   "metadata": {},
   "outputs": [
    {
     "name": "stdout",
     "output_type": "stream",
     "text": [
      "36\n"
     ]
    }
   ],
   "source": [
    " # Maximum of the 'Age' column\n",
    "print(df['Age'].max()) "
   ]
  },
  {
   "cell_type": "markdown",
   "id": "b9e8e34f-edfb-4c39-b2c6-b5910965613a",
   "metadata": {},
   "source": [
    "### Handling Missing Data:"
   ]
  },
  {
   "cell_type": "markdown",
   "id": "c6125a9c-b972-42e0-96bd-c443179bb23c",
   "metadata": {},
   "source": [
    "##### Checking for Missing Data:"
   ]
  },
  {
   "cell_type": "code",
   "execution_count": 51,
   "id": "4be6e9ea-890b-4ef4-89bc-435cb851c94a",
   "metadata": {},
   "outputs": [
    {
     "name": "stdout",
     "output_type": "stream",
     "text": [
      "    Name    Age   City\n",
      "a  False  False  False\n",
      "c  False  False  False\n"
     ]
    }
   ],
   "source": [
    "# Check for missing values\n",
    "print(df.isna())  "
   ]
  },
  {
   "cell_type": "markdown",
   "id": "55a98624-7e9f-4a82-abc6-d88a792d7cc5",
   "metadata": {},
   "source": [
    "##### Filling Missing Data:"
   ]
  },
  {
   "cell_type": "code",
   "execution_count": 55,
   "id": "68b2212f-5774-4659-bf52-366a3f26ca25",
   "metadata": {},
   "outputs": [
    {
     "name": "stdout",
     "output_type": "stream",
     "text": [
      "      Name      Age      City\n",
      "a    Alice     26.0  New York\n",
      "c  Charlie     36.0   Chicago\n",
      "2  Unknown  Unknown   Unknown\n"
     ]
    }
   ],
   "source": [
    "df_with_nan = df.copy()\n",
    "df_with_nan.loc[2, 'City'] = None  # Introduce a NaN value\n",
    "df_filled = df_with_nan.fillna('Unknown')\n",
    "print(df_filled)"
   ]
  },
  {
   "cell_type": "markdown",
   "id": "e63ee067-b108-4934-acac-963e079414ca",
   "metadata": {},
   "source": [
    "##### Dropping Missing Data:"
   ]
  },
  {
   "cell_type": "code",
   "execution_count": 56,
   "id": "c94f498c-3b9d-4287-a1b0-d074f99919fe",
   "metadata": {},
   "outputs": [
    {
     "name": "stdout",
     "output_type": "stream",
     "text": [
      "      Name   Age      City\n",
      "a    Alice  26.0  New York\n",
      "c  Charlie  36.0   Chicago\n"
     ]
    }
   ],
   "source": [
    "df_dropped = df_with_nan.dropna()\n",
    "print(df_dropped)"
   ]
  },
  {
   "cell_type": "markdown",
   "id": "41d3256c-aca0-4132-a228-eee1b1f8cb1c",
   "metadata": {},
   "source": [
    "### DataFrame Operations:"
   ]
  },
  {
   "cell_type": "markdown",
   "id": "a7f23584-2b95-4267-a6fa-1d6f286ade88",
   "metadata": {},
   "source": [
    "##### Arithmetic Operations:\n",
    "    You can perform element-wise arithmetic operations on DataFrames."
   ]
  },
  {
   "cell_type": "code",
   "execution_count": 57,
   "id": "3fcb70ec-15b8-4eaa-b2a7-8708818981a4",
   "metadata": {},
   "outputs": [
    {
     "name": "stdout",
     "output_type": "stream",
     "text": [
      "      Name  Age      City\n",
      "a    Alice   52  New York\n",
      "c  Charlie   72   Chicago\n"
     ]
    }
   ],
   "source": [
    "df['Age'] = df['Age'] * 2\n",
    "print(df)"
   ]
  },
  {
   "cell_type": "markdown",
   "id": "a36b823d-2538-4050-a1e1-c0a71d5cdfef",
   "metadata": {},
   "source": [
    "##### Applying Functions: \n",
    "      Use apply() to apply functions across rows or columns."
   ]
  },
  {
   "cell_type": "code",
   "execution_count": 58,
   "id": "d8cdad3c-4ce8-4a54-aeb8-3f9e6bd2d0d7",
   "metadata": {},
   "outputs": [
    {
     "name": "stdout",
     "output_type": "stream",
     "text": [
      "      Name  Age      City Age Group\n",
      "a    Alice   52  New York     Adult\n",
      "c  Charlie   72   Chicago    Senior\n"
     ]
    }
   ],
   "source": [
    "df['Age Group'] = df['Age'].apply(lambda x: 'Senior' if x > 60 else 'Adult')\n",
    "print(df)"
   ]
  },
  {
   "cell_type": "markdown",
   "id": "6597d613-a199-400b-86cd-8e320cd595af",
   "metadata": {},
   "source": [
    "### Merging, Joining, and Concatenating DataFrames:"
   ]
  },
  {
   "cell_type": "markdown",
   "id": "e3f449cf-06e3-4484-8752-e1b70b337318",
   "metadata": {},
   "source": [
    "##### Concatenation:\n",
    "       You can concatenate DataFrames along rows or columns."
   ]
  },
  {
   "cell_type": "code",
   "execution_count": 60,
   "id": "eacdd108-2e72-4b39-a704-7d8c7f40c5fb",
   "metadata": {},
   "outputs": [
    {
     "name": "stdout",
     "output_type": "stream",
     "text": [
      "   A  B\n",
      "0  1  3\n",
      "1  2  4\n",
      "0  5  7\n",
      "1  6  8\n"
     ]
    }
   ],
   "source": [
    "df1 = pd.DataFrame({'A': [1, 2], 'B': [3, 4]})\n",
    "df2 = pd.DataFrame({'A': [5, 6], 'B': [7, 8]})\n",
    "df_concat = pd.concat([df1, df2])\n",
    "print(df_concat)"
   ]
  },
  {
   "cell_type": "markdown",
   "id": "c9e054dc-e7ed-4583-9fba-0e2dc2c7a33a",
   "metadata": {},
   "source": [
    "##### Merging: \n",
    "      Merge DataFrames using a key or index."
   ]
  },
  {
   "cell_type": "code",
   "execution_count": 61,
   "id": "e87981d5-77f2-4618-a210-7247d92c1714",
   "metadata": {},
   "outputs": [
    {
     "name": "stdout",
     "output_type": "stream",
     "text": [
      "  key  left_val  right_val\n",
      "0   B         2          3\n"
     ]
    }
   ],
   "source": [
    "df_left = pd.DataFrame({'key': ['A', 'B'], 'left_val': [1, 2]})\n",
    "df_right = pd.DataFrame({'key': ['B', 'C'], 'right_val': [3, 4]})\n",
    "df_merged = pd.merge(df_left, df_right, on='key', how='inner')\n",
    "print(df_merged)"
   ]
  },
  {
   "cell_type": "markdown",
   "id": "2879f10e-32a1-493e-a86b-9d216f4fa585",
   "metadata": {},
   "source": [
    "##### Joining: \n",
    "        Join DataFrames on their index."
   ]
  },
  {
   "cell_type": "code",
   "execution_count": 62,
   "id": "8806f47e-5524-4135-9ff8-97ddb989f992",
   "metadata": {},
   "outputs": [
    {
     "name": "stdout",
     "output_type": "stream",
     "text": [
      "   A  B\n",
      "a  1  3\n"
     ]
    }
   ],
   "source": [
    "df_left = pd.DataFrame({'A': [1, 2]}, index=['a', 'b'])\n",
    "df_right = pd.DataFrame({'B': [3, 4]}, index=['a', 'c'])\n",
    "df_joined = df_left.join(df_right, how='inner')\n",
    "print(df_joined)"
   ]
  },
  {
   "cell_type": "markdown",
   "id": "43e4c56d-88b9-47f1-bfd4-0e603d17d54a",
   "metadata": {},
   "source": [
    "#### Grouping Data:\n",
    "You can group data based on column values and apply aggregate functions."
   ]
  },
  {
   "cell_type": "code",
   "execution_count": 63,
   "id": "4b319f84-2408-4b2a-88d7-26df6b6ad203",
   "metadata": {},
   "outputs": [
    {
     "name": "stdout",
     "output_type": "stream",
     "text": [
      "City\n",
      "Chicago        35.0\n",
      "Los Angeles    30.0\n",
      "New York       25.0\n",
      "Name: Age, dtype: float64\n"
     ]
    }
   ],
   "source": [
    "df = pd.DataFrame({\n",
    "    'Name': ['Alice', 'Bob', 'Charlie', 'Alice'],\n",
    "    'Age': [25, 30, 35, 25],\n",
    "    'City': ['New York', 'Los Angeles', 'Chicago', 'New York']\n",
    "})\n",
    "\n",
    "grouped = df.groupby('City')\n",
    "print(grouped['Age'].mean())  # Mean age per city\n"
   ]
  },
  {
   "cell_type": "markdown",
   "id": "ed75e739-e422-4f42-acfe-819b96eb5590",
   "metadata": {},
   "source": [
    "### Application of analyzing pandas in data science:\n",
    "Pandas is a crucial library in data science for managing and analyzing data. Here are some key applications:\n",
    "##### Data Cleaning and Preprocessing:\n",
    "         Handling missing data, removing duplicates, and transforming data types.\n",
    "##### Exploratory Data Analysis (EDA):\n",
    "         Summarizing data with descriptive statistics, visualizing trends, and identifying correlations.\n",
    "##### Data Filtering and Selection:\n",
    "         Querying and slicing data to focus on specific subsets.\n",
    "##### Data Aggregation and Grouping:\n",
    "         Grouping data for summary statistics and creating pivot tables for in-depth analysis.\n",
    "##### Time Series Analysis:\n",
    "         Analyzing and forecasting trends in time-stamped data.\n",
    "##### Data Integration:\n",
    "         Merging, joining, and concatenating multiple datasets for comprehensive analysis.\n",
    "##### Feature Engineering:\n",
    "        Creating and transforming features for machine learning models.\n",
    "##### Data Export and Reporting:\n",
    "        Exporting cleaned and analyzed data to various formats for reporting and further use.\n",
    "\n",
    "Pandas simplifies data handling, making it essential for data preparation, analysis, and modeling in data science."
   ]
  },
  {
   "cell_type": "markdown",
   "id": "4d6dbead-efb5-409c-a365-8537bf66e2fb",
   "metadata": {},
   "source": [
    "#### Analyzing data with a real time example:"
   ]
  },
  {
   "cell_type": "markdown",
   "id": "226d7b31-a7a0-4d87-9ea7-5c75741931bb",
   "metadata": {},
   "source": [
    "Problem Statement:\n",
    "\n",
    "A retail store wants to analyze its sales data to understand which products are performing well and which are not. The goal is to make informed decisions about inventory management and promotional strategies."
   ]
  },
  {
   "cell_type": "markdown",
   "id": "f7eeb024-5a6e-4684-8d76-8f42889806f3",
   "metadata": {},
   "source": [
    "Steps to follow:\n",
    "##### Data Collection and Import:\n",
    "\n",
    "The store collects sales data in a CSV file that includes columns for product IDs, product names, sales amounts, and dates of sales.\n"
   ]
  },
  {
   "cell_type": "markdown",
   "id": "41364a6e-77c7-4a5a-9cb1-f1f5bba5ee01",
   "metadata": {},
   "source": [
    "Import the data into a pandas DataFrame:"
   ]
  },
  {
   "cell_type": "code",
   "execution_count": 84,
   "id": "cbdb6773-e254-4d83-a4e9-b3010350e062",
   "metadata": {},
   "outputs": [],
   "source": [
    "import pandas as pd"
   ]
  },
  {
   "cell_type": "code",
   "execution_count": 85,
   "id": "38f4d4ec-34c9-4b11-84e0-c60f8b57c0fc",
   "metadata": {},
   "outputs": [],
   "source": [
    "data = {\n",
    "    'Date': ['2024-01-01', '2024-01-01', '2024-01-02', '2024-01-02', '2024-01-03', '2024-01-03', '2024-02-01', '2024-02-01', '2024-02-02',\n",
    "             '2024-02-02', '2024-02-03', '2024-02-03', '2024-03-01', '2024-03-01', '2024-03-02', '2024-03-02', '2024-03-03', '2024-03-03'],\n",
    "    'Product': ['Product A', 'Product B', 'Product A', 'Product C','Product B', 'Product C', 'Product A', 'Product B', 'Product A', \n",
    "                'Product C', 'Product B', 'Product C', 'Product A', 'Product B', 'Product A', 'Product C', 'Product B', 'Product C'],\n",
    "    'Quantity': [10, 5, 7, 3, 8, 6, 12, 4, 9, 5, 7, 8, 15, 6, 10, 7, 5, 6],\n",
    "    'SalesAmount': [200, 100, 140, 90, 160, 180, 240, 80, 180, 150, 140, 240, 300, 120, 200, 210, 100, 180]\n",
    "    }"
   ]
  },
  {
   "cell_type": "code",
   "execution_count": 86,
   "id": "749594ba-3b42-4183-a246-8dd2456ba74a",
   "metadata": {},
   "outputs": [],
   "source": [
    "df = pd.DataFrame(data)"
   ]
  },
  {
   "cell_type": "code",
   "execution_count": 87,
   "id": "79772483-2baa-46ce-9445-925e00f721af",
   "metadata": {},
   "outputs": [],
   "source": [
    "df.to_csv('sales_data.csv', index=False)"
   ]
  },
  {
   "cell_type": "code",
   "execution_count": 88,
   "id": "2af69e7a-8598-4c5c-a979-72bd17477ca9",
   "metadata": {},
   "outputs": [],
   "source": [
    "df = pd.read_csv('sales_data.csv')"
   ]
  },
  {
   "cell_type": "markdown",
   "id": "0d916665-8a94-4d6b-992a-cf34ddae71ca",
   "metadata": {},
   "source": [
    "##### Data Cleaning and Preprocessing:\n",
    "\n",
    "Convert the Date column to a datetime format for easier analysis"
   ]
  },
  {
   "cell_type": "code",
   "execution_count": 89,
   "id": "f5e8dead-4f44-4b60-b048-485e27140215",
   "metadata": {},
   "outputs": [],
   "source": [
    "df['Date'] = pd.to_datetime(df['Date'])"
   ]
  },
  {
   "cell_type": "markdown",
   "id": "e627daee-ac9e-4c7b-97c6-0218f54ddcaa",
   "metadata": {},
   "source": [
    "Handle missing values, if any. For simplicity, let's fill missing Quantity values with 0."
   ]
  },
  {
   "cell_type": "code",
   "execution_count": 90,
   "id": "29dd7956-e482-45c1-be34-7edc7003bf98",
   "metadata": {},
   "outputs": [],
   "source": [
    "df['Quantity'].fillna(0, inplace=True)"
   ]
  },
  {
   "cell_type": "markdown",
   "id": "92529f0c-3329-48aa-8970-6dd4779765c4",
   "metadata": {},
   "source": [
    "##### Exploratory Data Analysis (EDA):\n",
    "\n",
    "Calculate total sales for each product"
   ]
  },
  {
   "cell_type": "code",
   "execution_count": 91,
   "id": "d647212a-c247-462d-8264-b907c5ceed93",
   "metadata": {},
   "outputs": [
    {
     "name": "stdout",
     "output_type": "stream",
     "text": [
      "Product\n",
      "Product A    1260\n",
      "Product C    1050\n",
      "Product B     700\n",
      "Name: SalesAmount, dtype: int64\n"
     ]
    }
   ],
   "source": [
    "product_sales = df.groupby('Product')['SalesAmount'].sum().sort_values(ascending=False)\n",
    "print(product_sales)"
   ]
  },
  {
   "cell_type": "markdown",
   "id": "ba623dcf-7ea3-4992-af0d-5530e805a830",
   "metadata": {},
   "source": [
    "##### Sales Performance Analysis:\n",
    "\n",
    "Calculate average sales per product"
   ]
  },
  {
   "cell_type": "code",
   "execution_count": 94,
   "id": "574aad87-5eb7-4f4f-81e1-ee54dcd4ba48",
   "metadata": {},
   "outputs": [
    {
     "name": "stdout",
     "output_type": "stream",
     "text": [
      "Product\n",
      "Product A    210.000000\n",
      "Product B    116.666667\n",
      "Product C    175.000000\n",
      "Name: SalesAmount, dtype: float64\n"
     ]
    }
   ],
   "source": [
    "avg_sales_per_product = df.groupby('Product')['SalesAmount'].mean()\n",
    "print(avg_sales_per_product)"
   ]
  },
  {
   "cell_type": "markdown",
   "id": "3afac723-1d7c-4399-917e-de5e00242328",
   "metadata": {},
   "source": [
    "##### Reporting:\n",
    "Generate a summary report of sales performance and trends"
   ]
  },
  {
   "cell_type": "code",
   "execution_count": 98,
   "id": "041a124a-16ed-4efb-8290-a0dba8ba45ea",
   "metadata": {},
   "outputs": [
    {
     "name": "stdout",
     "output_type": "stream",
     "text": [
      "          SalesAmount             Quantity\n",
      "                  sum        mean      sum\n",
      "Product                                   \n",
      "Product A        1260  210.000000       63\n",
      "Product B         700  116.666667       35\n",
      "Product C        1050  175.000000       35\n"
     ]
    }
   ],
   "source": [
    "sales_summary = df.groupby('Product').agg({\n",
    "    'SalesAmount': ['sum', 'mean'],\n",
    "    'Quantity': 'sum'\n",
    "})\n",
    "sales_summary.to_csv('sales_summary_report.csv')\n",
    "print(sales_summary)\n"
   ]
  },
  {
   "cell_type": "markdown",
   "id": "7a1cc6eb-71ab-4fb7-9751-02088785df44",
   "metadata": {},
   "source": [
    "## Advantages Of Pandas in Data Science:"
   ]
  },
  {
   "cell_type": "markdown",
   "id": "8ca83192-847e-42b5-95e1-ddc531dc0f9a",
   "metadata": {},
   "source": [
    "##### Ease of Use:\n",
    "      Intuitive syntax and user-friendly data structures (`DataFrame` and `Series`) simplify data manipulation.\n",
    "##### Data Cleaning:\n",
    "      Efficient handling of missing data and powerful data transformation tools.\n",
    "##### Data Analysis:\n",
    "      Built-in functions for statistics, grouping, and aggregation make data analysis straightforward.\n",
    "##### Integration:\n",
    "      Seamless compatibility with libraries like NumPy, SciPy, and visualization tools like Matplotlib.\n",
    "##### Time Series Analysis: \n",
    "      Robust support for time-based data, including resampling and rolling statistics.\n",
    "##### File Handling:\n",
    "      Versatile support for reading and writing various file formats (CSV, Excel, JSON, SQL).\n",
    "##### Performance:\n",
    "      Optimized for fast operations and efficient memory usage with vectorized operations.\n",
    "##### Flexibility:\n",
    "      Customizable operations with functions like `apply()`, and flexible indexing.\n"
   ]
  }
 ],
 "metadata": {
  "kernelspec": {
   "display_name": "Python 3 (ipykernel)",
   "language": "python",
   "name": "python3"
  },
  "language_info": {
   "codemirror_mode": {
    "name": "ipython",
    "version": 3
   },
   "file_extension": ".py",
   "mimetype": "text/x-python",
   "name": "python",
   "nbconvert_exporter": "python",
   "pygments_lexer": "ipython3",
   "version": "3.10.1"
  }
 },
 "nbformat": 4,
 "nbformat_minor": 5
}
